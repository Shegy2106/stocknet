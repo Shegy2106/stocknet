{
 "cells": [
  {
   "cell_type": "code",
   "execution_count": 3,
   "id": "initial_id",
   "metadata": {
    "collapsed": true,
    "ExecuteTime": {
     "end_time": "2024-02-23T15:27:58.820310Z",
     "start_time": "2024-02-23T15:27:58.817058Z"
    }
   },
   "outputs": [
    {
     "name": "stdout",
     "output_type": "stream",
     "text": [
      "[{'symbol': 'GOOG', 'company_name': 'Alphabet Inc.', 'polarity_score': [-1.0, 1.0]}, {'symbol': 'AAPL', 'company_name': 'Apple Inc.', 'polarity_score': [1.0, 1.0]}]\n"
     ]
    }
   ],
   "source": [
    "class CompanyPolarityHandler:\n",
    "    def __init__(self):\n",
    "        self.polarities_symbol_company_list = []\n",
    "\n",
    "    def update_company_polarities(self, average_company_polarities, companies_mentioned):\n",
    "        # Convert the list of polarities into a dictionary for easier access\n",
    "        polarity_dict = {item['span']: item['polarity'] for item in average_company_polarities[0]}\n",
    "\n",
    "        for company in companies_mentioned:\n",
    "            # Check if the company is already in the list\n",
    "            existing_entry = next((item for item in self.polarities_symbol_company_list if item['symbol'] == company['symbol'] and item['company_name'] == company['company_name']), None)\n",
    "            \n",
    "            # Calculate the company's polarity score\n",
    "            company_polarity = polarity_dict.get(company['company_name'], 0)\n",
    "\n",
    "            if existing_entry:\n",
    "                # If the company exists, update its polarity score list\n",
    "                existing_entry['polarity_score'].append(company_polarity)\n",
    "            else:\n",
    "                # Otherwise, add a new entry for the company\n",
    "                self.polarities_symbol_company_list.append({\n",
    "                    'symbol': company['symbol'],\n",
    "                    'company_name': company['company_name'],\n",
    "                    'polarity_score': [company_polarity],\n",
    "                })\n",
    "\n",
    "# Example usage\n",
    "average_company_polarities = [\n",
    "    [{'polarity': -1.0, 'span': 'Alphabet Inc.'},\n",
    "     {'polarity': 1.0, 'span': 'android'},\n",
    "     {'polarity': -1.0, 'span': 'security nightmare'},\n",
    "     {'polarity': -1.0, 'span': 'product'},\n",
    "     {'polarity': 1.0, 'span': 'Apple Inc.'}]\n",
    "]\n",
    "\n",
    "companies_mentioned = [\n",
    "    {'symbol': 'GOOG', 'company_name': 'Alphabet Inc.'},\n",
    "    {'symbol': 'AAPL', 'company_name': 'Apple Inc.'}\n",
    "]\n",
    "\n",
    "handler = CompanyPolarityHandler()\n",
    "handler.update_company_polarities(average_company_polarities, companies_mentioned)\n",
    "\n",
    "# Example usage\n",
    "average_company_polarities = [\n",
    "    [{'polarity': 1.0, 'span': 'Alphabet Inc.'},\n",
    "     {'polarity': 1.0, 'span': 'android'},\n",
    "     {'polarity': -1.0, 'span': 'security nightmare'},\n",
    "     {'polarity': -1.0, 'span': 'product'},\n",
    "     {'polarity': 1.0, 'span': 'Apple Inc.'}]\n",
    "]\n",
    "\n",
    "companies_mentioned = [\n",
    "    {'symbol': 'GOOG', 'company_name': 'Alphabet Inc.'},\n",
    "    {'symbol': 'AAPL', 'company_name': 'Apple Inc.'}\n",
    "]\n",
    "\n",
    "handler.update_company_polarities(average_company_polarities, companies_mentioned)\n",
    "\n",
    "\n",
    "print(handler.polarities_symbol_company_list)\n"
   ]
  }
 ],
 "metadata": {
  "kernelspec": {
   "display_name": "Python 3",
   "language": "python",
   "name": "python3"
  },
  "language_info": {
   "codemirror_mode": {
    "name": "ipython",
    "version": 2
   },
   "file_extension": ".py",
   "mimetype": "text/x-python",
   "name": "python",
   "nbconvert_exporter": "python",
   "pygments_lexer": "ipython2",
   "version": "2.7.6"
  }
 },
 "nbformat": 4,
 "nbformat_minor": 5
}
